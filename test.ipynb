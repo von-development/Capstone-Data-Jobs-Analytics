{
  "nbformat": 4,
  "nbformat_minor": 5,
  "metadata": {
    "kernel_info": {
      "name": "python3.9-noteable"
    },
    "kernelspec": {
      "display_name": "Python 3.9 (Noteable)",
      "identifier": "noteable",
      "language": "python",
      "language_version": "3.9",
      "name": "python3.9-noteable"
    },
    "selected_hardware_size": "small"
  },
  "cells": [
    {
      "id": "4bbbc7fb",
      "cell_type": "code",
      "metadata": {
        "noteable": {
          "output_collection_id": "c09c19ae-33e0-4c7d-be09-2afd2fb6c64a"
        },
        "ExecuteTime": null
      },
      "execution_count": null,
      "source": "print (\"hello world\")",
      "outputs": []
    }
  ]
}